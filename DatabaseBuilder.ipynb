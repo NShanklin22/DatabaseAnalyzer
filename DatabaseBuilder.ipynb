{
 "cells": [
  {
   "cell_type": "code",
   "execution_count": 74,
   "id": "fa6ed3d8",
   "metadata": {},
   "outputs": [],
   "source": [
    "import sqlite3\n",
    "import pandas as pd\n",
    "import sqlalchemy"
   ]
  },
  {
   "cell_type": "code",
   "execution_count": 75,
   "id": "df5830fd",
   "metadata": {},
   "outputs": [],
   "source": [
    "# Create connection to SQL and an engine for SQLalchemy\n",
    "connection = sqlite3.connect(r'C:\\Users\\Shanky\\Desktop\\Python\\Main_Projects\\DatabaseAnalyzer\\Data\\SebaData.db')\n",
    "cursor = connection.cursor()\n",
    "engine = sqlalchemy.create_engine(r'sqlite:///C:\\Users\\Shanky\\Desktop\\Python\\Main_Projects\\DatabaseAnalyzer\\Data\\SebaData.db').connect()"
   ]
  },
  {
   "cell_type": "code",
   "execution_count": 76,
   "id": "24be51be",
   "metadata": {
    "scrolled": true
   },
   "outputs": [],
   "source": [
    "df = pd.read_sql_table('Franklin', engine, index_col=0)"
   ]
  },
  {
   "cell_type": "code",
   "execution_count": 77,
   "id": "13860403",
   "metadata": {},
   "outputs": [
    {
     "data": {
      "text/html": [
       "<div>\n",
       "<style scoped>\n",
       "    .dataframe tbody tr th:only-of-type {\n",
       "        vertical-align: middle;\n",
       "    }\n",
       "\n",
       "    .dataframe tbody tr th {\n",
       "        vertical-align: top;\n",
       "    }\n",
       "\n",
       "    .dataframe thead th {\n",
       "        text-align: right;\n",
       "    }\n",
       "</style>\n",
       "<table border=\"1\" class=\"dataframe\">\n",
       "  <thead>\n",
       "    <tr style=\"text-align: right;\">\n",
       "      <th></th>\n",
       "      <th>date</th>\n",
       "      <th>asp_name</th>\n",
       "      <th>grade</th>\n",
       "    </tr>\n",
       "  </thead>\n",
       "  <tbody>\n",
       "    <tr>\n",
       "      <th>0</th>\n",
       "      <td>01/07/23 09:22</td>\n",
       "      <td>Acton01</td>\n",
       "      <td>87.2</td>\n",
       "    </tr>\n",
       "  </tbody>\n",
       "</table>\n",
       "</div>"
      ],
      "text/plain": [
       "             date asp_name  grade\n",
       "0  01/07/23 09:22  Acton01   87.2"
      ]
     },
     "execution_count": 77,
     "metadata": {},
     "output_type": "execute_result"
    }
   ],
   "source": [
    "df.head()"
   ]
  },
  {
   "cell_type": "code",
   "execution_count": 78,
   "id": "5a1e39ba",
   "metadata": {},
   "outputs": [],
   "source": [
    "new_data = {'asp_name': \"Acton01\", 'date': \"01/07/23 09:00\", 'gami': 87.2}"
   ]
  },
  {
   "cell_type": "code",
   "execution_count": 81,
   "id": "2e6e3220",
   "metadata": {},
   "outputs": [],
   "source": [
    "new_row = pd.DataFrame(new_data, index=[0])"
   ]
  },
  {
   "cell_type": "code",
   "execution_count": 79,
   "id": "205019c8",
   "metadata": {},
   "outputs": [],
   "source": [
    "df = df.append(new_row, ignore_index=True)"
   ]
  },
  {
   "cell_type": "code",
   "execution_count": 80,
   "id": "c4ccb565",
   "metadata": {},
   "outputs": [],
   "source": [
    "df.to_sql('Franklin', engine, if_exists='replace', index=False)"
   ]
  },
  {
   "cell_type": "code",
   "execution_count": null,
   "id": "32e1c822",
   "metadata": {},
   "outputs": [],
   "source": []
  }
 ],
 "metadata": {
  "kernelspec": {
   "display_name": "Python 3 (ipykernel)",
   "language": "python",
   "name": "python3"
  },
  "language_info": {
   "codemirror_mode": {
    "name": "ipython",
    "version": 3
   },
   "file_extension": ".py",
   "mimetype": "text/x-python",
   "name": "python",
   "nbconvert_exporter": "python",
   "pygments_lexer": "ipython3",
   "version": "3.9.7"
  }
 },
 "nbformat": 4,
 "nbformat_minor": 5
}
