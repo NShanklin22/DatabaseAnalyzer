{
 "cells": [
  {
   "cell_type": "code",
   "execution_count": 33,
   "id": "2a79a2d0",
   "metadata": {},
   "outputs": [],
   "source": [
    "import sqlite3\n",
    "import pandas as pd\n",
    "import sqlalchemy"
   ]
  },
  {
   "cell_type": "code",
   "execution_count": 38,
   "id": "293e4b15",
   "metadata": {},
   "outputs": [],
   "source": [
    "# Create connection to SQL and an engine for SQLalchemy\n",
    "connection = sqlite3.connect(r'C:\\Users\\Shanky\\Desktop\\Python\\Main_Projects\\DatabaseAnalyzer\\Data\\SebaData.db')\n",
    "cursor = connection.cursor()\n",
    "engine = sqlalchemy.create_engine(r'sqlite:///C:\\Users\\Shanky\\Desktop\\Python\\Main_Projects\\DatabaseAnalyzer\\Data\\SebaData.db').connect()"
   ]
  },
  {
   "cell_type": "code",
   "execution_count": 39,
   "id": "c5ebe076",
   "metadata": {
    "scrolled": true
   },
   "outputs": [],
   "source": [
    "df = pd.read_sql_table('Franklin', engine, index_col=1)"
   ]
  },
  {
   "cell_type": "code",
   "execution_count": 40,
   "id": "391e2f00",
   "metadata": {},
   "outputs": [
    {
     "data": {
      "text/html": [
       "<div>\n",
       "<style scoped>\n",
       "    .dataframe tbody tr th:only-of-type {\n",
       "        vertical-align: middle;\n",
       "    }\n",
       "\n",
       "    .dataframe tbody tr th {\n",
       "        vertical-align: top;\n",
       "    }\n",
       "\n",
       "    .dataframe thead th {\n",
       "        text-align: right;\n",
       "    }\n",
       "</style>\n",
       "<table border=\"1\" class=\"dataframe\">\n",
       "  <thead>\n",
       "    <tr style=\"text-align: right;\">\n",
       "      <th></th>\n",
       "      <th>asp_name</th>\n",
       "      <th>date</th>\n",
       "      <th>grade</th>\n",
       "    </tr>\n",
       "  </thead>\n",
       "  <tbody>\n",
       "  </tbody>\n",
       "</table>\n",
       "</div>"
      ],
      "text/plain": [
       "Empty DataFrame\n",
       "Columns: [asp_name, date, grade]\n",
       "Index: []"
      ]
     },
     "execution_count": 40,
     "metadata": {},
     "output_type": "execute_result"
    }
   ],
   "source": [
    "df.head()"
   ]
  },
  {
   "cell_type": "code",
   "execution_count": 41,
   "id": "179cd265",
   "metadata": {},
   "outputs": [],
   "source": [
    "new_data = {'asp_name': \"Acton01\", 'date': \"01/07/23 09:00\", 'grade': 87.2}"
   ]
  },
  {
   "cell_type": "code",
   "execution_count": 42,
   "id": "bcf056dd",
   "metadata": {},
   "outputs": [],
   "source": [
    "df = pd.DataFrame(new_data, index=[0])"
   ]
  },
  {
   "cell_type": "code",
   "execution_count": 43,
   "id": "422ad6b3",
   "metadata": {},
   "outputs": [],
   "source": [
    "df = df.append(new_row, ignore_index=True)"
   ]
  },
  {
   "cell_type": "code",
   "execution_count": 44,
   "id": "0fc07c4e",
   "metadata": {},
   "outputs": [],
   "source": [
    "df.to_sql('Franklin', engine, if_exists='replace', index=False)"
   ]
  }
 ],
 "metadata": {
  "kernelspec": {
   "display_name": "Python 3 (ipykernel)",
   "language": "python",
   "name": "python3"
  },
  "language_info": {
   "codemirror_mode": {
    "name": "ipython",
    "version": 3
   },
   "file_extension": ".py",
   "mimetype": "text/x-python",
   "name": "python",
   "nbconvert_exporter": "python",
   "pygments_lexer": "ipython3",
   "version": "3.9.7"
  }
 },
 "nbformat": 4,
 "nbformat_minor": 5
}
