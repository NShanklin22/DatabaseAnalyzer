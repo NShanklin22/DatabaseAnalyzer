{
 "cells": [
  {
   "cell_type": "code",
   "execution_count": 61,
   "id": "4cdfd6d6",
   "metadata": {},
   "outputs": [],
   "source": [
    "import sys\n",
    "import pandas as pd\n",
    "import matplotlib.pyplot as plt\n",
    "from matplotlib.figure import Figure\n",
    "sys.path.append('data')"
   ]
  },
  {
   "cell_type": "code",
   "execution_count": 55,
   "id": "45159d05",
   "metadata": {},
   "outputs": [],
   "source": [
    "file  = \"data\\incorrectNames.csv\"\n",
    "df = pd.read_csv(file, header=None)"
   ]
  },
  {
   "cell_type": "code",
   "execution_count": 56,
   "id": "1f08e8e6",
   "metadata": {},
   "outputs": [
    {
     "data": {
      "text/plain": [
       "UnitOcc           63\n",
       "DXCmd             44\n",
       "HtClDb            32\n",
       "DxMinOffSpt       30\n",
       "CompRuntimeRst    30\n",
       "                  ..\n",
       "CUHStpt            1\n",
       "CabUhCmd           1\n",
       "KilnTmpEaFan       1\n",
       "CabUhSts           1\n",
       "CtPmpCmd           1\n",
       "Length: 146, dtype: int64"
      ]
     },
     "execution_count": 56,
     "metadata": {},
     "output_type": "execute_result"
    }
   ],
   "source": [
    "df.value_counts()"
   ]
  },
  {
   "cell_type": "code",
   "execution_count": 57,
   "id": "89b5746e",
   "metadata": {},
   "outputs": [
    {
     "name": "stdout",
     "output_type": "stream",
     "text": [
      "['UnitOcc', 'DXCmd', 'HtClDb', 'DxMinOffSpt', 'CompRuntimeRst', 'CompRuntime', 'HtMd', 'ClMd', 'CdMdSpt', 'HtSbMdSpt']\n"
     ]
    },
    {
     "data": {
      "image/png": "[encoded data removed]",
      "text/plain": [
       "<Figure size 432x288 with 1 Axes>"
      ]
     },
     "metadata": {
      "needs_background": "light"
     },
     "output_type": "display_data"
    }
   ],
   "source": [
    "# Get the top 10 items by value\n",
    "top_10 = df.value_counts().nlargest(10)\n",
    "\n",
    "labels = [x[0] for x in top_10.index]\n",
    "print(labels)\n",
    "\n",
    "# Create a bar chart of the top 10 items\n",
    "top_10.plot(kind='bar', x = labels)\n",
    "\n",
    "\n",
    "# Set the chart title and axis labels\n",
    "plt.title('Top 10 Incorrect Names')\n",
    "plt.xlabel('Object Name')\n",
    "plt.ylabel('Count')\n",
    "\n",
    "# Display the chart\n",
    "plt.show()"
   ]
  },
  {
   "cell_type": "code",
   "execution_count": 59,
   "id": "c40b254b",
   "metadata": {},
   "outputs": [],
   "source": [
    "incorrectNamesData = df.value_counts().nlargest(10)\n",
    "labels = [x[0] for x in incorrectNamesData.index]\n"
   ]
  },
  {
   "cell_type": "code",
   "execution_count": 60,
   "id": "4066d987",
   "metadata": {},
   "outputs": [
    {
     "ename": "NameError",
     "evalue": "name 'Figure' is not defined",
     "output_type": "error",
     "traceback": [
      "\u001b[1;31m---------------------------------------------------------------------------\u001b[0m",
      "\u001b[1;31mNameError\u001b[0m                                 Traceback (most recent call last)",
      "\u001b[1;32m~\\AppData\\Local\\Temp/ipykernel_3896/1451783163.py\u001b[0m in \u001b[0;36m<module>\u001b[1;34m\u001b[0m\n\u001b[1;32m----> 1\u001b[1;33m \u001b[0mfig\u001b[0m \u001b[1;33m=\u001b[0m \u001b[0mFigure\u001b[0m\u001b[1;33m(\u001b[0m\u001b[1;33m)\u001b[0m\u001b[1;33m\u001b[0m\u001b[1;33m\u001b[0m\u001b[0m\n\u001b[0m",
      "\u001b[1;31mNameError\u001b[0m: name 'Figure' is not defined"
     ]
    }
   ],
   "source": [
    "fig = Figure()"
   ]
  },
  {
   "cell_type": "code",
   "execution_count": null,
   "id": "4687276a",
   "metadata": {},
   "outputs": [],
   "source": []
  }
 ],
 "metadata": {
  "kernelspec": {
   "display_name": "Python 3 (ipykernel)",
   "language": "python",
   "name": "python3"
  },
  "language_info": {
   "codemirror_mode": {
    "name": "ipython",
    "version": 3
   },
   "file_extension": ".py",
   "mimetype": "text/x-python",
   "name": "python",
   "nbconvert_exporter": "python",
   "pygments_lexer": "ipython3",
   "version": "3.9.7"
  }
 },
 "nbformat": 4,
 "nbformat_minor": 5
}
